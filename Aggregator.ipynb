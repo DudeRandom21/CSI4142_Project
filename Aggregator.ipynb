{
 "cells": [
  {
   "cell_type": "code",
   "execution_count": null,
   "metadata": {},
   "outputs": [],
   "source": [
    "import requests\n",
    "from bs4 import BeautifulSoup\n",
    "import urllib\n",
    "import pandas as pd\n",
    "import numpy as np\n",
    "import json\n",
    "from time import sleep, perf_counter as pf\n",
    "import itertools as it"
   ]
  },
  {
   "cell_type": "code",
   "execution_count": null,
   "metadata": {},
   "outputs": [],
   "source": [
    "date = pd.DataFrame(pd.date_range('01/01/2015', '31/12/2017', freq='D'), columns=['Date'])\n",
    "date.insert(0, 'Date_key', date.index)\n",
    "display(date)"
   ]
  },
  {
   "cell_type": "code",
   "execution_count": null,
   "metadata": {},
   "outputs": [],
   "source": [
    "# Add date information\n",
    "date['Day_of_week'] = date.Date.dt.dayofweek\n",
    "date['Year'] = date.Date.dt.year\n",
    "date['Month'] = date.Date.dt.month\n",
    "date['Day'] = date.Date.dt.day\n",
    "date['Week'] = date.Date.dt.week\n",
    "date['Weekend'] = 0\n",
    "date.loc[\n",
    "    (date.Day_of_week == 0) |\n",
    "    (date.Day_of_week == 6),\n",
    "    'Weekend'\n",
    "] = 1\n",
    "date['season'] = (date.Date.dt.month%12 + 3)//3\n",
    "date.to_csv('final/date.csv', index=False)\n",
    "display(date)"
   ]
  },
  {
   "cell_type": "code",
   "execution_count": null,
   "metadata": {},
   "outputs": [],
   "source": [
    "# Add Crime\n",
    "crime = pd.read_csv('datasets/crime_output.csv')\n",
    "date.Date.astype(str)\n",
    "crime['DATE'] = pd.to_datetime(crime['DATE'])\n",
    "crime['start_dt'] = pd.to_datetime(crime['start_dt'])\n",
    "crime['end_dt'] = pd.to_datetime(crime['end_dt'])\n",
    "df = pd.merge(date, crime, left_on='Date', right_on='DATE', how='left')\n",
    "display(df)"
   ]
  },
  {
   "cell_type": "code",
   "execution_count": null,
   "metadata": {},
   "outputs": [],
   "source": [
    "# Add Location\n",
    "location = pd.read_csv('datasets/final/location.csv')\n",
    "df['NEIGHBORHOOD'] = df.NEIGHBORHOOD.str.strip()\n",
    "df['NEIGHBORHOOD'] = df.NEIGHBORHOOD.str.lower()\n",
    "df['NEIGHBORHOOD'] = df.NEIGHBORHOOD.str.replace('-', ' ')\n",
    "df['NEIGHBORHOOD'] = df.NEIGHBORHOOD.str.replace('   ', ' ')\n",
    "\n",
    "df = pd.merge(df, location, left_on=['ADDRESS', 'LAT', 'LON', 'NEIGHBORHOOD'], right_on=['ADDRESS', 'LAT', 'LON', 'NEIGHBORHOOD'], how='left')\n",
    "display(df)"
   ]
  },
  {
   "cell_type": "code",
   "execution_count": null,
   "metadata": {},
   "outputs": [],
   "source": [
    "# Add Weather\n",
    "weather = pd.read_csv('datasets/weather.csv')\n",
    "weather['Date'] = pd.to_datetime(weather['Date'])\n",
    "df = pd.merge(df, weather, left_on=['City', 'Date'], right_on=['City', 'Date'], how='left')\n",
    "display(df)"
   ]
  },
  {
   "cell_type": "code",
   "execution_count": null,
   "metadata": {},
   "outputs": [],
   "source": [
    "# Add is_nighttime\n",
    "df['Is_Nighttime'] = 1\n",
    "df.loc[(df.TIME > df.Sunrise) & (df.TIME < df.Sunset), 'Is_Nighttime'] = 0\n",
    "display(df)"
   ]
  },
  {
   "cell_type": "code",
   "execution_count": null,
   "metadata": {},
   "outputs": [],
   "source": [
    "# Add stock data\n",
    "stock = pd.read_csv('datasets/StockData.csv')\n",
    "stock['date'] = pd.to_datetime(stock.date)\n",
    "df = pd.merge(df, stock, left_on='Date', right_on='date', how='left')\n",
    "display(df)"
   ]
  },
  {
   "cell_type": "code",
   "execution_count": null,
   "metadata": {},
   "outputs": [],
   "source": [
    "# Add Events\n",
    "events = pd.read_csv('datasets/events_mapping.csv')\n",
    "events['date'] = pd.to_datetime(events.date)\n",
    "df = pd.merge(df, events, left_on='Date', right_on='date', how='left')\n",
    "display(df)"
   ]
  },
  {
   "cell_type": "code",
   "execution_count": null,
   "metadata": {
    "scrolled": false
   },
   "outputs": [],
   "source": [
    "final = df[['Date_key', 'eventKey', 'Crime_key', 'Location_key', 'Weather_key', 'stockKey', 'IS_FATAL', 'IS_TRAFFIC', 'Is_Nighttime']]\n",
    "display(final)\n",
    "final.to_csv('final/fact.csv', index=False)"
   ]
  },
  {
   "cell_type": "code",
   "execution_count": null,
   "metadata": {},
   "outputs": [],
   "source": []
  },
  {
   "cell_type": "code",
   "execution_count": null,
   "metadata": {},
   "outputs": [],
   "source": []
  }
 ],
 "metadata": {
  "kernelspec": {
   "display_name": "Python 3",
   "language": "python",
   "name": "python3"
  },
  "language_info": {
   "codemirror_mode": {
    "name": "ipython",
    "version": 3
   },
   "file_extension": ".py",
   "mimetype": "text/x-python",
   "name": "python",
   "nbconvert_exporter": "python",
   "pygments_lexer": "ipython3",
   "version": "3.7.5"
  }
 },
 "nbformat": 4,
 "nbformat_minor": 4
}
