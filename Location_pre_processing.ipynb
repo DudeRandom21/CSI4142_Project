{
 "cells": [
  {
   "cell_type": "code",
   "execution_count": null,
   "metadata": {},
   "outputs": [],
   "source": [
    "import requests\n",
    "from bs4 import BeautifulSoup\n",
    "import urllib\n",
    "import pandas as pd\n",
    "import numpy as np\n",
    "import json\n",
    "from time import sleep, perf_counter as pf\n",
    "import itertools as it"
   ]
  },
  {
   "cell_type": "code",
   "execution_count": null,
   "metadata": {},
   "outputs": [],
   "source": [
    "base = pd.read_csv('datasets/location_output.csv')\n",
    "base['NEIGHBORHOOD'] = base.NEIGHBORHOOD.str.strip()\n",
    "base['NEIGHBORHOOD'] = base.NEIGHBORHOOD.str.lower()\n",
    "base['NEIGHBORHOOD'] = base.NEIGHBORHOOD.str.replace('-', ' ')\n",
    "base['NEIGHBORHOOD'] = base.NEIGHBORHOOD.str.replace('   ', ' ')\n",
    "display(base)"
   ]
  },
  {
   "cell_type": "code",
   "execution_count": null,
   "metadata": {},
   "outputs": [],
   "source": [
    "stats = pd.read_csv('datasets/nhbdStats.csv')\n",
    "stats['NEIGHBORHOOD'] = stats.NEIGHBORHOOD.str.strip()\n",
    "stats['NEIGHBORHOOD'] = stats.NEIGHBORHOOD.str.lower()\n",
    "stats['NEIGHBORHOOD'] = stats.NEIGHBORHOOD.str.replace('-', ' ')\n",
    "stats['NEIGHBORHOOD'] = stats.NEIGHBORHOOD.str.replace('   ', ' ')\n",
    "display(stats)"
   ]
  },
  {
   "cell_type": "code",
   "execution_count": null,
   "metadata": {},
   "outputs": [],
   "source": [
    "location = pd.merge(base, stats, left_on='NEIGHBORHOOD', right_on='NEIGHBORHOOD', how='left')\n",
    "display(location)"
   ]
  },
  {
   "cell_type": "code",
   "execution_count": null,
   "metadata": {},
   "outputs": [],
   "source": [
    "location.loc[np.isnan(location['TTL_POPULATION_ALL'])]"
   ]
  },
  {
   "cell_type": "code",
   "execution_count": null,
   "metadata": {},
   "outputs": [],
   "source": [
    "location.to_csv('datasets/final/location.csv', index=False)"
   ]
  },
  {
   "cell_type": "code",
   "execution_count": null,
   "metadata": {},
   "outputs": [],
   "source": [
    "location.columns"
   ]
  },
  {
   "cell_type": "code",
   "execution_count": null,
   "metadata": {},
   "outputs": [],
   "source": []
  },
  {
   "cell_type": "code",
   "execution_count": null,
   "metadata": {},
   "outputs": [],
   "source": []
  }
 ],
 "metadata": {
  "kernelspec": {
   "display_name": "Python 3",
   "language": "python",
   "name": "python3"
  },
  "language_info": {
   "codemirror_mode": {
    "name": "ipython",
    "version": 3
   },
   "file_extension": ".py",
   "mimetype": "text/x-python",
   "name": "python",
   "nbconvert_exporter": "python",
   "pygments_lexer": "ipython3",
   "version": "3.7.5"
  }
 },
 "nbformat": 4,
 "nbformat_minor": 4
}
