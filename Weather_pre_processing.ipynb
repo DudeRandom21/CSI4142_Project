{
 "cells": [
  {
   "cell_type": "code",
   "execution_count": null,
   "metadata": {},
   "outputs": [],
   "source": [
    "import requests\n",
    "from bs4 import BeautifulSoup\n",
    "import urllib\n",
    "import pandas as pd\n",
    "import numpy as np\n",
    "import json\n",
    "from time import sleep, perf_counter as pf\n",
    "import itertools as it"
   ]
  },
  {
   "cell_type": "code",
   "execution_count": null,
   "metadata": {},
   "outputs": [],
   "source": [
    "# Temperature, pop, sunrise, sunset\n",
    "temp = pd.read_csv('datasets/weather/temperature.csv')#[['datetime', 'Vancouver', 'Denver']]\n",
    "\n",
    "# 3 Column Vancouver\n",
    "t_van = temp[['datetime', 'Vancouver']]\n",
    "t_van.insert(1, 'City', 'Vancouver')\n",
    "t_van.columns=['Datetime', 'City', 'Temperature']\n",
    "\n",
    "# 3 Column Denver\n",
    "t_den = temp[['datetime', 'Denver']]\n",
    "t_den.insert(1, 'City', 'Denver')\n",
    "t_den.columns=['Datetime', 'City', 'Temperature']\n",
    "temp = pd.concat([t_van, t_den])\n",
    "\n",
    "temp.reset_index(drop=True, inplace=True)\n",
    "display(temp)"
   ]
  },
  {
   "cell_type": "code",
   "execution_count": null,
   "metadata": {},
   "outputs": [],
   "source": [
    "desc = pd.read_csv('datasets/weather/weather_description.csv')#[['Datetime', 'Vancouver', 'Denver']]\n",
    "\n",
    "# 3 Column Vancouver\n",
    "d_van = desc[['datetime', 'Vancouver']]\n",
    "d_van.insert(1, 'City', 'Vancouver')\n",
    "d_van.columns=['Datetime', 'City', 'Weather']\n",
    "\n",
    "# 3 Column Denver\n",
    "d_den = desc[['datetime', 'Denver']]\n",
    "d_den.insert(1, 'City', 'Denver')\n",
    "d_den.columns=['Datetime', 'City', 'Weather']\n",
    "desc = pd.concat([d_van, d_den])\n",
    "\n",
    "desc.reset_index(drop=True, inplace=True)\n",
    "display(desc)"
   ]
  },
  {
   "cell_type": "code",
   "execution_count": null,
   "metadata": {},
   "outputs": [],
   "source": [
    "weather = pd.merge(temp, desc, left_on=['Datetime', 'City'], right_on=['Datetime', 'City'])\n",
    "display(weather)"
   ]
  },
  {
   "cell_type": "code",
   "execution_count": null,
   "metadata": {},
   "outputs": [],
   "source": [
    "datetime = pd.to_datetime(weather['Datetime'])\n",
    "weather['Date'] = [d.date() for d in datetime]\n",
    "#weather['TIME'] = [d.time() for d in datetime]\n",
    "weather.drop('Datetime', axis=1, inplace=True)\n",
    "display(weather)"
   ]
  },
  {
   "cell_type": "code",
   "execution_count": null,
   "metadata": {},
   "outputs": [],
   "source": [
    "# Average out over the day\n",
    "output_lst = []\n",
    "for date in weather.Date.unique():\n",
    "    for city in weather.City.unique():\n",
    "        df = weather.loc[(weather['Date'] == date) & (weather['City'] == city)]\n",
    "        output_lst.append({\n",
    "            'City': city,\n",
    "            'Temperature': df.Temperature.mean(),\n",
    "            'Weather': df.Weather.mode()[0] if len(df.Weather.mode()) > 0 else np.nan,\n",
    "            'Date': date\n",
    "        })\n",
    "weather = pd.DataFrame(output_lst)\n",
    "display(weather)"
   ]
  },
  {
   "cell_type": "code",
   "execution_count": null,
   "metadata": {},
   "outputs": [],
   "source": [
    "s_van = pd.read_csv('datasets/sunrise_sunset_denver.csv')\n",
    "s_van['City'] = 'Vancouver'\n",
    "s_den = pd.read_csv('datasets/sunrise_sunset_denver.csv')\n",
    "s_den['City'] = 'Denver'\n",
    "sun = pd.concat([s_van, s_den])\n",
    "datetime = pd.to_datetime(sun[['Year', 'Month', 'Day']])\n",
    "sun['Date'] = [d.date() for d in datetime]\n",
    "sun = sun[['Date', 'City', 'Sunrise', 'Sunset']]\n",
    "display(sun)"
   ]
  },
  {
   "cell_type": "code",
   "execution_count": null,
   "metadata": {},
   "outputs": [],
   "source": [
    "full = pd.merge(weather, sun, left_on=['Date', 'City'], right_on=['Date', 'City'])\n",
    "full.insert(0, 'Weather_key', full.index)\n",
    "display(full)"
   ]
  },
  {
   "cell_type": "code",
   "execution_count": null,
   "metadata": {},
   "outputs": [],
   "source": [
    "full.to_csv('datasets/weather.csv', index=False)"
   ]
  },
  {
   "cell_type": "code",
   "execution_count": null,
   "metadata": {},
   "outputs": [],
   "source": [
    "final = full.drop(['City', 'Date'], axis=1)\n",
    "final.to_csv('datasets/final/weather.csv')\n",
    "display(final)"
   ]
  }
 ],
 "metadata": {
  "kernelspec": {
   "display_name": "Python 3",
   "language": "python",
   "name": "python3"
  },
  "language_info": {
   "codemirror_mode": {
    "name": "ipython",
    "version": 3
   },
   "file_extension": ".py",
   "mimetype": "text/x-python",
   "name": "python",
   "nbconvert_exporter": "python",
   "pygments_lexer": "ipython3",
   "version": "3.7.5"
  }
 },
 "nbformat": 4,
 "nbformat_minor": 4
}
