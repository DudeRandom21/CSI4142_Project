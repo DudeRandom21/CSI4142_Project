{
 "cells": [
  {
   "cell_type": "code",
   "execution_count": 1,
   "metadata": {},
   "outputs": [],
   "source": [
    "import requests\n",
    "from bs4 import BeautifulSoup\n",
    "import urllib\n",
    "import pandas as pd\n",
    "import json\n",
    "from time import sleep, perf_counter as pf\n",
    "import itertools as it"
   ]
  },
  {
   "cell_type": "code",
   "execution_count": 2,
   "metadata": {},
   "outputs": [],
   "source": [
    "def add_type(df, col, val, type):\n",
    "    df.loc[(df[col.upper()] == val) & (df['TYPE'] == ''), 'TYPE'] = type"
   ]
  },
  {
   "cell_type": "code",
   "execution_count": 36,
   "metadata": {
    "scrolled": true
   },
   "outputs": [],
   "source": [
    "den = pd.read_csv(\"C:\\\\Users\\\\zemdy\\\\Documents\\\\csi4142\\\\Project\\\\Denver.csv\")\n",
    "# display(den)"
   ]
  },
  {
   "cell_type": "code",
   "execution_count": 11,
   "metadata": {},
   "outputs": [],
   "source": [
    "van = pd.read_csv(\"C:\\\\Users\\\\zemdy\\\\Documents\\\\csi4142\\\\Project\\\\vancouver5.csv\")\n",
    "# display(van)"
   ]
  },
  {
   "cell_type": "code",
   "execution_count": 38,
   "metadata": {},
   "outputs": [],
   "source": [
    "# Drop unneeded columns\n",
    "den.drop(['INCIDENT_ID', 'OFFENSE_ID', 'OFFENSE_CODE', 'OFFENSE_CODE_EXTENSION', 'FIRST_OCCURRENCE_DATE', 'LAST_OCCURRENCE_DATE', 'GEO_X', 'GEO_Y', 'DISTRICT_ID', 'PRECINCT_ID'], 1, inplace=True)\n",
    "den['TYPE'] = ''\n",
    "# display(den)"
   ]
  },
  {
   "cell_type": "code",
   "execution_count": 15,
   "metadata": {},
   "outputs": [],
   "source": [
    "# van.drop(['X', 'Y'], 1, inplace=True)\n",
    "# display(van)"
   ]
  },
  {
   "cell_type": "code",
   "execution_count": 40,
   "metadata": {},
   "outputs": [],
   "source": [
    "den['REPORTED_DATE']=pd.to_datetime(den['REPORTED_DATE'])\n",
    "den=den.loc[den['REPORTED_DATE'].dt.date <= pd.to_datetime('2017-12-31')]"
   ]
  },
  {
   "cell_type": "code",
   "execution_count": 43,
   "metadata": {},
   "outputs": [
    {
     "data": {
      "text/plain": [
       "array(['Other Theft', 'Break and Enter Residential/Other', 'Mischief',\n",
       "       'Break and Enter Commercial', 'Offence Against a Person',\n",
       "       'Theft from Vehicle',\n",
       "       'Vehicle Collision or Pedestrian Struck (with Injury)',\n",
       "       'Vehicle Collision or Pedestrian Struck (with Fatality)',\n",
       "       'Theft of Vehicle', 'Homicide', 'Theft of Bicycle'], dtype=object)"
      ]
     },
     "execution_count": 43,
     "metadata": {},
     "output_type": "execute_result"
    }
   ],
   "source": [
    "van.TYPE.unique()"
   ]
  },
  {
   "cell_type": "code",
   "execution_count": null,
   "metadata": {},
   "outputs": [],
   "source": []
  },
  {
   "cell_type": "code",
   "execution_count": 44,
   "metadata": {},
   "outputs": [
    {
     "data": {
      "text/plain": [
       "array(['all-other-crimes', 'theft-from-motor-vehicle', 'larceny',\n",
       "       'auto-theft', 'aggravated-assault', 'other-crimes-against-persons',\n",
       "       'public-disorder', 'traffic-accident', 'drug-alcohol', 'burglary',\n",
       "       'sexual-assault', 'robbery', 'arson', 'murder',\n",
       "       'white-collar-crime'], dtype=object)"
      ]
     },
     "execution_count": 44,
     "metadata": {},
     "output_type": "execute_result"
    }
   ],
   "source": [
    "den.OFFENSE_CATEGORY_ID.unique()"
   ]
  },
  {
   "cell_type": "code",
   "execution_count": 68,
   "metadata": {},
   "outputs": [
    {
     "data": {
      "text/plain": [
       "array(['weapon-unlawful-discharge-of', 'criminal-trespassing',\n",
       "       'traf-vehicular-assault', 'littering', 'animal-cruelty-to',\n",
       "       'pawn-broker-viol', 'traf-other', 'public-order-crimes-other',\n",
       "       'violation-of-restraining-order', 'public-fighting',\n",
       "       'probation-violation', 'illegal-dumping',\n",
       "       'police-obstruct-investigation', 'fireworks-possession',\n",
       "       'gambling-gaming-operation', 'gambling-device',\n",
       "       'weapon-flourishing', 'police-interference', 'vehicular-eluding',\n",
       "       'weapon-by-prev-offender-powpo', 'violation-of-court-order',\n",
       "       'traf-habitual-offender', 'police-resisting-arrest',\n",
       "       'police-false-information', 'vehicular-eluding-no-chase',\n",
       "       'intimidation-of-a-witness', 'weapon-carrying-concealed',\n",
       "       'failure-to-appear', 'kidnap-adult-victim',\n",
       "       'contraband-into-prison', 'reckless-endangerment',\n",
       "       'weapon-other-viol', 'agg-aslt-police-weapon', 'escape',\n",
       "       'weapon-carrying-prohibited', 'bomb-threat',\n",
       "       'police-disobey-lawful-order', 'weapon-poss-illegal-dangerous',\n",
       "       'explosive-incendiary-dev-pos', 'obstructing-govt-operation',\n",
       "       'other-enviornment-animal-viol', 'false-imprisonment',\n",
       "       'property-crimes-other', 'violation-of-custody-order',\n",
       "       'accessory-conspiracy-to-crime', 'disarming-a-peace-officer',\n",
       "       'kidnap-dv', 'stolen-property-buy-sell-rec',\n",
       "       'traf-impound-vehicle', 'aslt-agg-police-gun', 'extortion',\n",
       "       'contraband-possession', 'animal-poss-of-dangerous',\n",
       "       'weapon-altering-serial-number', 'police-making-a-false-rpt',\n",
       "       'sex-off-fail-to-register', 'bribery', 'parole-violation',\n",
       "       'wiretapping', 'explosive-incendiary-dev-use', 'escape-aiding',\n",
       "       'explosives-posses', 'failure-to-report-abuse',\n",
       "       'weapon-unlawful-sale', 'eavesdropping',\n",
       "       'sex-off-registration-viol'], dtype=object)"
      ]
     },
     "execution_count": 68,
     "metadata": {},
     "output_type": "execute_result"
    }
   ],
   "source": [
    "den.loc[den['OFFENSE_CATEGORY_ID'] == 'all-other-crimes'].OFFENSE_TYPE_ID.unique()"
   ]
  },
  {
   "cell_type": "code",
   "execution_count": 65,
   "metadata": {},
   "outputs": [],
   "source": [
    "# Theft\n",
    "add_type(den, 'offense_category_id', 'theft-from-motor-vehicle', 'Theft from Vehicle')\n",
    "add_type(den, 'offense_category_id', 'auto-theft', 'Theft of Vehicle')\n",
    "## Larceny\n",
    "add_type(den, 'offense_type_id', 'theft-bicycle', 'Theft of Bicycle')\n",
    "add_type(den, 'offense_category_id', 'larceny', 'Other Theft')\n",
    "## Robbery\n",
    "add_type(den, 'offense_type_id', 'robbery-car-jacking', 'Theft of Vehicle')\n",
    "add_type(den, 'offense_category_id', 'robbery', 'Other Theft')\n",
    "## Burglary\n",
    "add_type(den, 'offense_type_id', 'burg-auto-theft-resd-w-force', 'Theft of Vehicle')\n",
    "add_type(den, 'offense_type_id', 'burg-auto-theft-resd-no-force', 'Theft of Vehicle')\n",
    "add_type(den, 'offense_type_id', 'burg-auto-theft-busn-w-force', 'Theft of Vehicle')\n",
    "add_type(den, 'offense_type_id', 'burg-auto-theft-busn-no-force', 'Theft of Vehicle')\n",
    "add_type(den, 'offense_category_id', 'burglary', 'Other Theft')\n",
    "## White-collar-crimes\n",
    "add_type(den, 'offense_type_id', 'theft-embezzle', 'Other Theft')\n",
    "add_type(den, 'offense_type_id', 'theft-unauth-use-of-ftd', 'Other Theft')\n",
    "add_type(den, 'offense_type_id', 'theft-fail-return-rent-veh', 'Theft of Vehicle')\n",
    "add_type(den, 'offense_type_id', 'theft-of-rental-property', 'Other Theft') \n",
    "\n",
    "# Homocide\n",
    "add_type(den, 'offense_type_id', 'traf-vehicular-homicide', 'Vehicle Collision or Pedestrian Struck (with Fatality)')\n",
    "add_type(den, 'offense_category_id', 'murder', 'Homicide')\n",
    "add_type(den, 'offense_category_id', 'traffic-accident', 'Vehicle Collision or Pedestrian Struck (with Injury)')\n",
    "\n",
    "# This one needs to be fixed later.\n",
    "add_type(den, 'offense_category_id', 'drug-alcohol', 'drug-alcohol_CHANGE_ME')\n",
    "# Public Disorder \n",
    "add_type(den, 'offense_type_id', 'criminal-mischief-other', 'Mischief')\n",
    "add_type(den, 'offense_type_id', 'criminal-mischief-mtr-veh', 'Mischief')\n",
    "add_type(den, 'offense_type_id', 'criminal-mischief-graffiti', 'Mischief')\n",
    "add_type(den, 'offense_type_id', 'riot', 'Mischief')\n",
    "add_type(den, 'offense_type_id', 'loitering', 'Mischief')\n",
    "add_type(den, 'offense_type_id', 'prostitution-engaging-in', 'Mischief')\n",
    "add_type(den, 'offense_type_id', 'prostitution-aiding', 'Mischief')\n",
    "add_type(den, 'offense_category_id', 'public-disorder', 'Offence Against a Person')\n",
    "\n",
    "#all-other-crimes\n",
    "add_type(den, 'offense_type_id', 'criminal-trespassing', 'Mischief')\n",
    "add_type(den, 'offense_type_id', 'criminal-trespassing', 'Mischief')\n",
    "add_type(den, 'offense_type_id', 'littering', 'Mischief') \n",
    "add_type(den, 'offense_type_id', 'public-fighting', 'Mischief')\n",
    "add_type(den, 'offense_type_id', 'illegal-dumping', 'Mischief')\n",
    "add_type(den, 'offense_type_id', 'eavesdropping', 'Mischief')\n",
    "\n",
    "# display(den.loc[(den['TYPE'] == '') & (den['OFFENSE_CATEGORY_ID'] != 'all-other-crimes')])"
   ]
  },
  {
   "cell_type": "code",
   "execution_count": null,
   "metadata": {},
   "outputs": [],
   "source": []
  },
  {
   "cell_type": "code",
   "execution_count": null,
   "metadata": {},
   "outputs": [],
   "source": []
  },
  {
   "cell_type": "code",
   "execution_count": null,
   "metadata": {},
   "outputs": [],
   "source": []
  }
 ],
 "metadata": {
  "kernelspec": {
   "display_name": "Python 3",
   "language": "python",
   "name": "python3"
  },
  "language_info": {
   "codemirror_mode": {
    "name": "ipython",
    "version": 3
   },
   "file_extension": ".py",
   "mimetype": "text/x-python",
   "name": "python",
   "nbconvert_exporter": "python",
   "pygments_lexer": "ipython3",
   "version": "3.7.4"
  }
 },
 "nbformat": 4,
 "nbformat_minor": 4
}
