{
 "cells": [
  {
   "cell_type": "code",
   "execution_count": null,
   "metadata": {},
   "outputs": [],
   "source": [
    "import requests\n",
    "from bs4 import BeautifulSoup\n",
    "import urllib\n",
    "import pandas as pd\n",
    "import json\n",
    "from time import sleep, perf_counter as pf\n",
    "import itertools as it"
   ]
  },
  {
   "cell_type": "code",
   "execution_count": null,
   "metadata": {},
   "outputs": [],
   "source": [
    "def add_type(df, col, val, type):\n",
    "    df.loc[(df[col.upper()] == val) & (df['TYPE'] == ''), 'TYPE'] = type"
   ]
  },
  {
   "cell_type": "code",
   "execution_count": null,
   "metadata": {},
   "outputs": [],
   "source": [
    "den = pd.read_csv('datasets/Denver.csv')\n",
    "display(den)"
   ]
  },
  {
   "cell_type": "code",
   "execution_count": null,
   "metadata": {},
   "outputs": [],
   "source": [
    "van = pd.read_csv('datasets/vancouver.csv')\n",
    "display(van)"
   ]
  },
  {
   "cell_type": "code",
   "execution_count": null,
   "metadata": {},
   "outputs": [],
   "source": [
    "# Drop unneeded columns\n",
    "den.drop(['INCIDENT_ID', 'OFFENSE_ID', 'OFFENSE_CODE', 'OFFENSE_CODE_EXTENSION', 'FIRST_OCCURRENCE_DATE', 'LAST_OCCURRENCE_DATE', 'GEO_X', 'GEO_Y', 'DISTRICT_ID', 'PRECINCT_ID'], 1, inplace=True)\n",
    "den['TYPE'] = ''\n",
    "display(den)"
   ]
  },
  {
   "cell_type": "code",
   "execution_count": null,
   "metadata": {},
   "outputs": [],
   "source": [
    "van.drop(['X', 'Y'], 1, inplace=True)\n",
    "display(van)"
   ]
  },
  {
   "cell_type": "code",
   "execution_count": null,
   "metadata": {},
   "outputs": [],
   "source": [
    "van.TYPE.unique()"
   ]
  },
  {
   "cell_type": "code",
   "execution_count": null,
   "metadata": {},
   "outputs": [],
   "source": [
    "den.OFFENSE_CATEGORY_ID.unique()"
   ]
  },
  {
   "cell_type": "code",
   "execution_count": null,
   "metadata": {},
   "outputs": [],
   "source": [
    "den.loc[den['OFFENSE_CATEGORY_ID'] == 'white-collar-crime'].OFFENSE_TYPE_ID.unique()"
   ]
  },
  {
   "cell_type": "code",
   "execution_count": null,
   "metadata": {},
   "outputs": [],
   "source": [
    "# Theft\n",
    "add_type(den, 'offense_category_id', 'theft-from-motor-vehicle', 'Theft from Vehicle')\n",
    "add_type(den, 'offense_category_id', 'auto-theft', 'Theft of Vehicle')\n",
    "## Larceny\n",
    "add_type(den, 'offense_type_id', 'theft-bicycle', 'Theft of Bicycle')\n",
    "add_type(den, 'offense_category_id', 'larceny', 'Other Theft')\n",
    "## Robbery\n",
    "add_type(den, 'offense_type_id', 'robbery-car-jacking', 'Theft of Vehicle')\n",
    "add_type(den, 'offense_category_id', 'robbery', 'Other Theft')\n",
    "## Burglary\n",
    "add_type(den, 'offense_type_id', 'burg-auto-theft-resd-w-force', 'Theft of Vehicle')\n",
    "add_type(den, 'offense_type_id', 'burg-auto-theft-resd-no-force', 'Theft of Vehicle')\n",
    "add_type(den, 'offense_type_id', 'burg-auto-theft-busn-w-force', 'Theft of Vehicle')\n",
    "add_type(den, 'offense_type_id', 'burg-auto-theft-busn-no-force', 'Theft of Vehicle')\n",
    "add_type(den, 'offense_category_id', 'burglary', 'Other Theft')\n",
    "## White-collar-crimes\n",
    "add_type(den, 'offense_type_id', 'theft-embezzle', 'Other Theft')\n",
    "add_type(den, 'offense_type_id', 'theft-unauth-use-of-ftd', 'Other Theft')\n",
    "add_type(den, 'offense_type_id', 'theft-fail-return-rent-veh', 'Theft of Vehicle')\n",
    "add_type(den, 'offense_type_id', 'theft-of-rental-property', 'Other Theft')\n",
    "\n",
    "# Homocide\n",
    "add_type(den, 'offense_type_id', 'traf-vehicular-homicide', 'Vehicle Collision or Pedestrian Struck (with Fatality)')\n",
    "add_type(den, 'offense_category_id', 'murder', 'Homicide')\n",
    "add_type(den, 'offense_category_id', 'traffic-accident', 'Vehicle Collision or Pedestrian Struck (with Injury)')\n",
    "\n",
    "# This one needs to be fixed later.\n",
    "add_type(den, 'offense_category_id', 'drug-alcohol', 'drug-alcohol_CHANGE_ME')\n",
    "\n",
    "\n",
    "display(den.loc[(den['TYPE'] == '') & (den['OFFENSE_CATEGORY_ID'] != 'all-other-crimes')])"
   ]
  },
  {
   "cell_type": "code",
   "execution_count": null,
   "metadata": {},
   "outputs": [],
   "source": []
  },
  {
   "cell_type": "code",
   "execution_count": null,
   "metadata": {},
   "outputs": [],
   "source": []
  },
  {
   "cell_type": "code",
   "execution_count": null,
   "metadata": {},
   "outputs": [],
   "source": []
  },
  {
   "cell_type": "code",
   "execution_count": null,
   "metadata": {},
   "outputs": [],
   "source": []
  },
  {
   "cell_type": "code",
   "execution_count": null,
   "metadata": {},
   "outputs": [],
   "source": []
  }
 ],
 "metadata": {
  "kernelspec": {
   "display_name": "Python 3",
   "language": "python",
   "name": "python3"
  },
  "language_info": {
   "codemirror_mode": {
    "name": "ipython",
    "version": 3
   },
   "file_extension": ".py",
   "mimetype": "text/x-python",
   "name": "python",
   "nbconvert_exporter": "python",
   "pygments_lexer": "ipython3",
   "version": "3.7.5"
  }
 },
 "nbformat": 4,
 "nbformat_minor": 4
}
