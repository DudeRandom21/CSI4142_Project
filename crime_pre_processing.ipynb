{
 "cells": [
  {
   "cell_type": "code",
   "execution_count": null,
   "metadata": {},
   "outputs": [],
   "source": [
    "import requests\n",
    "from bs4 import BeautifulSoup\n",
    "import urllib\n",
    "import pandas as pd\n",
    "import numpy as np\n",
    "import json\n",
    "from time import sleep, perf_counter as pf\n",
    "import itertools as it\n",
    "import datetime as dt"
   ]
  },
  {
   "cell_type": "code",
   "execution_count": null,
   "metadata": {},
   "outputs": [],
   "source": [
    "def add_type(df, col, val, type):\n",
    "    df.loc[(df[col.upper()] == val) & (df['TYPE'] == ''), 'TYPE'] = type"
   ]
  },
  {
   "cell_type": "code",
   "execution_count": null,
   "metadata": {},
   "outputs": [],
   "source": [
    "def add_cat(df, col, val, type):\n",
    "    df.loc[(df[col.upper()] == val) & (df['Category'] == ''), 'Category'] = 'Offense Against ' + type"
   ]
  },
  {
   "cell_type": "code",
   "execution_count": null,
   "metadata": {},
   "outputs": [],
   "source": [
    "den = pd.read_csv('datasets/Denver.csv')\n",
    "display(den)"
   ]
  },
  {
   "cell_type": "code",
   "execution_count": null,
   "metadata": {},
   "outputs": [],
   "source": [
    "van = pd.read_csv('datasets/vancouver.csv')\n",
    "display(van)"
   ]
  },
  {
   "cell_type": "code",
   "execution_count": null,
   "metadata": {},
   "outputs": [],
   "source": [
    "# Drop unneeded columns\n",
    "den.drop(['INCIDENT_ID', 'OFFENSE_ID', 'OFFENSE_CODE', 'OFFENSE_CODE_EXTENSION', 'GEO_X', 'GEO_Y', 'DISTRICT_ID', 'PRECINCT_ID'], 1, inplace=True)\n",
    "\n",
    "# Add Time Info\n",
    "datetime = pd.to_datetime(den['REPORTED_DATE'], format='%m/%d/%Y %I:%M:%S %p')\n",
    "den['DATE'] = [d.date() for d in datetime]\n",
    "den['TIME'] = [d.time() for d in datetime]\n",
    "\n",
    "# Add Extra columns\n",
    "den['City'] = 'Denver'\n",
    "van['City'] = 'Vancouver'\n",
    "den['TYPE'] = ''\n",
    "van['Category'] = ''\n",
    "den['Category'] = ''\n",
    "\n",
    "# Add 'IS_TRAFFIC' and 'IS_FATAL'\n",
    "van['IS_TRAFFIC'] = 0\n",
    "van.loc[\n",
    "    (van.TYPE == 'Vehicle Collision or Pedestrian Struck (with Injury)') |\n",
    "    (van.TYPE == 'Vehicle Collision or Pedestrian Struck (with Fatality)'),\n",
    "    'IS_TRAFFIC'\n",
    "] = 1\n",
    "\n",
    "van['IS_FATAL'] = 0\n",
    "van.loc[\n",
    "    (van.TYPE == 'Homicide') |\n",
    "    (van.TYPE == 'Vehicle Collision or Pedestrian Struck (with Fatality)'),\n",
    "    'IS_FATAL'\n",
    "] = 1\n",
    "\n",
    "den['IS_FATAL'] = 0\n",
    "den.loc[\n",
    "    (den.OFFENSE_CATEGORY_ID == 'murder'),\n",
    "    'IS_FATAL'\n",
    "] = 1\n",
    "\n",
    "# Add Start/End time to vancouver\n",
    "van['FIRST_OCCURRENCE_DATE'] = pd.NaT\n",
    "van['LAST_OCCURRENCE_DATE'] = pd.NaT\n",
    "van['Details'] = ''\n",
    "\n",
    "display(den)"
   ]
  },
  {
   "cell_type": "code",
   "execution_count": null,
   "metadata": {},
   "outputs": [],
   "source": [
    "datetime = pd.to_datetime(van[['YEAR', 'MONTH', 'DAY', 'HOUR', 'MINUTE']])\n",
    "van.insert(1, 'DATE', [d.date() for d in datetime])\n",
    "van.insert(2, 'TIME', [d.time() if not pd.isnull(d) else np.NaN for d in datetime])\n",
    "van.drop(['X', 'Y', 'YEAR', 'MONTH', 'DAY', 'HOUR', 'MINUTE'], 1, inplace=True)\n",
    "display(van)"
   ]
  },
  {
   "cell_type": "code",
   "execution_count": null,
   "metadata": {},
   "outputs": [],
   "source": [
    "van.TYPE.unique()"
   ]
  },
  {
   "cell_type": "code",
   "execution_count": null,
   "metadata": {},
   "outputs": [],
   "source": [
    "den.OFFENSE_CATEGORY_ID.unique()"
   ]
  },
  {
   "cell_type": "code",
   "execution_count": null,
   "metadata": {},
   "outputs": [],
   "source": [
    "den.loc[den['OFFENSE_CATEGORY_ID'] == 'murder'].OFFENSE_TYPE_ID.unique()"
   ]
  },
  {
   "cell_type": "code",
   "execution_count": null,
   "metadata": {},
   "outputs": [],
   "source": [
    "# Theft\n",
    "add_type(den, 'offense_category_id', 'theft-from-motor-vehicle', 'Theft from Vehicle')\n",
    "add_type(den, 'offense_category_id', 'auto-theft', 'Theft of Vehicle')\n",
    "## Larceny\n",
    "add_type(den, 'offense_type_id', 'theft-bicycle', 'Theft of Bicycle')\n",
    "add_type(den, 'offense_category_id', 'larceny', 'Other Theft')\n",
    "## Robbery\n",
    "add_type(den, 'offense_type_id', 'robbery-car-jacking', 'Theft of Vehicle')\n",
    "add_type(den, 'offense_category_id', 'robbery', 'Other Theft')\n",
    "## Burglary\n",
    "add_type(den, 'offense_type_id', 'burg-auto-theft-resd-w-force', 'Theft of Vehicle')\n",
    "add_type(den, 'offense_type_id', 'burg-auto-theft-resd-no-force', 'Theft of Vehicle')\n",
    "add_type(den, 'offense_type_id', 'burg-auto-theft-busn-w-force', 'Theft of Vehicle')\n",
    "add_type(den, 'offense_type_id', 'burg-auto-theft-busn-no-force', 'Theft of Vehicle')\n",
    "add_type(den, 'offense_category_id', 'burglary', 'Other Theft')\n",
    "## White-collar-crimes\n",
    "add_type(den, 'offense_type_id', 'theft-embezzle', 'Other Theft')\n",
    "add_type(den, 'offense_type_id', 'theft-unauth-use-of-ftd', 'Other Theft')\n",
    "add_type(den, 'offense_type_id', 'theft-fail-return-rent-veh', 'Theft of Vehicle')\n",
    "add_type(den, 'offense_type_id', 'theft-of-rental-property', 'Other Theft') \n",
    "\n",
    "# Homocide\n",
    "add_type(den, 'offense_type_id', 'traf-vehicular-homicide', 'Vehicle Collision or Pedestrian Struck (with Fatality)')\n",
    "add_type(den, 'offense_category_id', 'murder', 'Homicide')\n",
    "add_type(den, 'offense_category_id', 'traffic-accident', 'Vehicle Collision or Pedestrian Struck (with Injury)')\n",
    "\n",
    "# Public Disorder \n",
    "add_type(den, 'offense_type_id', 'criminal-mischief-other', 'Mischief')\n",
    "add_type(den, 'offense_type_id', 'criminal-mischief-mtr-veh', 'Mischief')\n",
    "add_type(den, 'offense_type_id', 'criminal-mischief-graffiti', 'Mischief')\n",
    "add_type(den, 'offense_type_id', 'riot', 'Mischief')\n",
    "add_type(den, 'offense_type_id', 'loitering', 'Mischief')\n",
    "add_type(den, 'offense_type_id', 'prostitution-engaging-in', 'Mischief')\n",
    "add_type(den, 'offense_type_id', 'prostitution-aiding', 'Mischief')\n",
    "add_type(den, 'offense_category_id', 'public-disorder', 'Offence Against a Person')\n",
    "\n",
    "#all-other-crimes\n",
    "add_type(den, 'offense_type_id', 'criminal-trespassing', 'Mischief')\n",
    "add_type(den, 'offense_type_id', 'criminal-trespassing', 'Mischief')\n",
    "add_type(den, 'offense_type_id', 'littering', 'Mischief') \n",
    "add_type(den, 'offense_type_id', 'public-fighting', 'Mischief')\n",
    "add_type(den, 'offense_type_id', 'illegal-dumping', 'Mischief')\n",
    "add_type(den, 'offense_type_id', 'eavesdropping', 'Mischief')\n",
    "\n",
    "# aggravated\n",
    "add_type(den, 'offense_category_id', 'aggravated-assault', 'Offence Against a Person')\n",
    "add_type(den, 'offense_category_id', 'sexual-assault', 'Offence Against a Person')\n",
    "add_type(den, 'offense_category_id', 'other-crimes-against-persons', 'Offence Against a Person')\n",
    "\n",
    "display(den.loc[(den['TYPE'] == '') & (~den.OFFENSE_CATEGORY_ID.isin([\n",
    "    'all-other-crimes',\n",
    "    'drug-alcohol',\n",
    "    'white-collar-crime',\n",
    "    'arson',\n",
    "]))])"
   ]
  },
  {
   "cell_type": "code",
   "execution_count": null,
   "metadata": {},
   "outputs": [],
   "source": [
    "add_cat(den, 'type', 'Theft from Vehicle', 'Person')\n",
    "add_cat(van, 'type', 'Theft from Vehicle', 'Person')\n",
    "add_cat(den, 'type', 'Other Theft', 'Property')\n",
    "add_cat(van, 'type', 'Other Theft', 'Property')\n",
    "add_cat(den, 'type', 'Theft of Vehicle', 'Property')\n",
    "add_cat(van, 'type', 'Theft of Vehicle', 'Property')\n",
    "add_cat(den, 'type', 'Theft of Bicycle', 'Property')\n",
    "add_cat(van, 'type', 'Theft of Bicycle', 'Property')\n",
    "add_cat(den, 'type', 'Offence Against a Person', 'Person')\n",
    "add_cat(van, 'type', 'Offence Against a Person', 'Person')\n",
    "add_cat(den, 'type', 'Vehicle Collision or Pedestrian Struck (with Injury)', 'Society')\n",
    "add_cat(van, 'type', 'Vehicle Collision or Pedestrian Struck (with Injury)', 'Society')\n",
    "add_cat(den, 'type', 'Vehicle Collision or Pedestrian Struck (with Fatality)', 'Society')\n",
    "add_cat(van, 'type', 'Vehicle Collision or Pedestrian Struck (with Fatality)', 'Society')\n",
    "add_cat(den, 'type', 'Homicide', 'Person')\n",
    "add_cat(van, 'type', 'Homicide', 'Person')\n",
    "add_cat(den, 'type', 'Mischief', 'Society')\n",
    "add_cat(van, 'type', 'Mischief', 'Society')\n",
    "add_cat(den, 'type', 'Break and Enter Residential/Other', 'Property')\n",
    "add_cat(van, 'type', 'Break and Enter Residential/Other', 'Property')\n",
    "add_cat(den, 'type', 'Break and Enter Commercial', 'Property')\n",
    "add_cat(van, 'type', 'Break and Enter Commercial', 'Property')\n",
    "\n",
    "add_cat(den, 'offense_category_id', 'all-other-crimes', 'Society')\n",
    "add_cat(den, 'offense_category_id', 'aggravated-assault', 'Person')\n",
    "add_cat(den, 'offense_category_id', 'sexual-assault', 'Person')\n",
    "add_cat(den, 'offense_category_id', 'white-collar-crime', 'Society')\n",
    "add_cat(den, 'offense_category_id', 'arson', 'Property')\n",
    "add_cat(den, 'offense_category_id', 'drug-alcohol', 'Society')\n",
    "\n",
    "display(den.loc[den['Category'] == ''])\n",
    "display(van.loc[van['Category'] == ''])"
   ]
  },
  {
   "cell_type": "code",
   "execution_count": null,
   "metadata": {},
   "outputs": [],
   "source": [
    "display(van)"
   ]
  },
  {
   "cell_type": "code",
   "execution_count": null,
   "metadata": {},
   "outputs": [],
   "source": [
    "den.drop(['OFFENSE_TYPE_ID', 'REPORTED_DATE', 'IS_CRIME'], axis=1, inplace=True)\n",
    "display(den)"
   ]
  },
  {
   "cell_type": "code",
   "execution_count": null,
   "metadata": {},
   "outputs": [],
   "source": [
    "van.columns=['TYPE', 'DATE', 'TIME', 'ADDRESS', 'NEIGHBORHOOD', 'LAT', 'LON', 'City', 'Category', 'IS_TRAFFIC', 'IS_FATAL', 'start_dt', 'end_dt', 'Details']\n",
    "den.columns=['Details', 'start_dt', 'end_dt', 'ADDRESS', 'LON', 'LAT', 'NEIGHBORHOOD', 'IS_TRAFFIC', 'DATE', 'TIME', 'City', 'TYPE', 'Category', 'IS_FATAL']\n",
    "crime = pd.concat([van, den], sort=True)\n",
    "crime.end_dt=pd.to_datetime(crime.end_dt)\n",
    "crime.start_dt=pd.to_datetime(crime.start_dt)\n",
    "firstDay = dt.datetime.strptime('2015/01/01', '%Y/%m/%d').date()\n",
    "lastDay = dt.datetime.strptime('2017/12/31', '%Y/%m/%d').date()\n",
    "crime = crime.loc[(crime.DATE >= firstDay) & (crime.DATE <= lastDay)]\n",
    "display(crime)"
   ]
  },
  {
   "cell_type": "code",
   "execution_count": null,
   "metadata": {
    "scrolled": true
   },
   "outputs": [],
   "source": [
    "crime.reset_index(drop=True, inplace=True) # If not we get non-unique keys\n",
    "crime.insert(0, 'Crime_key', crime.index)\n",
    "display(crime)"
   ]
  },
  {
   "cell_type": "code",
   "execution_count": null,
   "metadata": {},
   "outputs": [],
   "source": [
    "crime.to_csv('datasets/crime_output.csv', index=False)"
   ]
  },
  {
   "cell_type": "code",
   "execution_count": null,
   "metadata": {},
   "outputs": [],
   "source": [
    "# Get Final Crime Table\n",
    "f_crime = crime.drop(['ADDRESS', 'City', 'DATE', 'IS_FATAL', 'IS_TRAFFIC', 'LAT', 'LON', 'NEIGHBORHOOD'], axis=1)\n",
    "f_crime.to_csv('final/crime.csv', index=False)\n",
    "display(f_crime)"
   ]
  },
  {
   "cell_type": "code",
   "execution_count": null,
   "metadata": {},
   "outputs": [],
   "source": [
    "location = crime[['ADDRESS', 'LAT', 'LON', 'NEIGHBORHOOD']]\n",
    "location = location.drop_duplicates()\n",
    "location.reset_index(drop=True, inplace=True)\n",
    "location.insert(0, 'Location_key', location.index)\n",
    "display(location)"
   ]
  },
  {
   "cell_type": "code",
   "execution_count": null,
   "metadata": {},
   "outputs": [],
   "source": [
    "location.to_csv('datasets/location_output.csv', index=False)"
   ]
  },
  {
   "cell_type": "code",
   "execution_count": null,
   "metadata": {},
   "outputs": [],
   "source": []
  },
  {
   "cell_type": "code",
   "execution_count": null,
   "metadata": {},
   "outputs": [],
   "source": []
  },
  {
   "cell_type": "code",
   "execution_count": null,
   "metadata": {},
   "outputs": [],
   "source": []
  }
 ],
 "metadata": {
  "kernelspec": {
   "display_name": "Python 3",
   "language": "python",
   "name": "python3"
  },
  "language_info": {
   "codemirror_mode": {
    "name": "ipython",
    "version": 3
   },
   "file_extension": ".py",
   "mimetype": "text/x-python",
   "name": "python",
   "nbconvert_exporter": "python",
   "pygments_lexer": "ipython3",
   "version": "3.7.5"
  }
 },
 "nbformat": 4,
 "nbformat_minor": 4
}
