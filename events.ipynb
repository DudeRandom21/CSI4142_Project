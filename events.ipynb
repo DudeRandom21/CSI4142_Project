{
 "cells": [
  {
   "cell_type": "code",
   "execution_count": 1,
   "metadata": {},
   "outputs": [],
   "source": [
    "import pandas as pd\n",
    "import numpy as np\n",
    "path=\"C:\\\\Users\\\\zemdy\\\\Documents\\\\csi4142\\\\Project\\\\EVENTS\\\\\" \n",
    "d = {'W':1, 'L':2, 'Draw':3 }\n",
    "d1 = {'Won':1, 'Lost':2, 'Draw':3 }\n",
    "import warnings \n",
    "warnings.filterwarnings('ignore')"
   ]
  },
  {
   "cell_type": "code",
   "execution_count": 2,
   "metadata": {},
   "outputs": [],
   "source": [
    "base_De=pd.read_csv(path + \"baseball_denver(home and away).csv\" )\n",
    "concert_De=pd.read_csv(path+ \"concerts_denver.csv\")\n",
    "concert_v=pd.read_csv(path+ \"concerts_vancouver.csv\")\n",
    "foot_de=pd.read_csv(path + \"football_denver(home and away).csv\")\n",
    "vanc_h=pd.read_csv(path + \"hockey_Vancouver(home and away).csv\")\n",
    "vanc_s=pd.read_csv(path+\"soccer_vancouver(home only).csv\")\n",
    "den_fes=pd.read_csv(path + 'festivals_colorado(including Denver).csv')\n",
    "van_fes=pd.read_csv(path + 'festivals_vancouver.csv')\n",
    "van_hol=pd.read_csv(path +'holidaysCanada.csv')\n",
    "den_hol=pd.read_csv(path + 'holidaysUS.csv')"
   ]
  },
  {
   "cell_type": "code",
   "execution_count": 3,
   "metadata": {},
   "outputs": [],
   "source": [
    "base_De=pd.read_csv(path + \"baseball_denver(home and away).csv\" )\n",
    "base_De['Game_Date']=pd.to_datetime(base_De['Game_Date'])\n",
    "base_De['type']='Sport'\n",
    "base_De['startDate']=base_De['Game_Date']\n",
    "base_De['endDate']=base_De['Game_Date']\n",
    "base_De['outcome']= base_De.Game_outcome.map(d)\n",
    "base_De['name']='Baseball'\n",
    "base_De['city']='Denver'\n",
    "base_De['startTime']=np.nan\n",
    "base_De['endTime']=np.nan\n",
    "base_De=base_De[['name','type','outcome','startDate','endDate','startTime','endTime','city']]"
   ]
  },
  {
   "cell_type": "code",
   "execution_count": 4,
   "metadata": {},
   "outputs": [],
   "source": [
    "concert_De['Show_month']=pd.to_datetime(concert_De['Show_month'], format='%b').dt.month"
   ]
  },
  {
   "cell_type": "code",
   "execution_count": 5,
   "metadata": {},
   "outputs": [],
   "source": [
    "concert_De['startDate']=(concert_De['Show_year'].astype(str)+'-'+concert_De['Show_month'].astype(str)+'-'\n",
    "                         +concert_De['Show_day'].astype(str))\n",
    "concert_De['startDate']=pd.to_datetime(concert_De['startDate'])\n",
    "concert_De['endDate']=concert_De['startDate']\n",
    "concert_De['type']='Concert'\n",
    "concert_De['outcome']=np.nan\n",
    "concert_De['name']=concert_De['Show_name']\n",
    "concert_De['city']='Denver'\n",
    "concert_De['startTime']=np.nan\n",
    "concert_De['endTime']=np.nan\n",
    "concert_De=concert_De[['name','type','outcome','startDate','endDate','startTime','endTime','city']]"
   ]
  },
  {
   "cell_type": "code",
   "execution_count": 6,
   "metadata": {},
   "outputs": [],
   "source": [
    "# concert_v[['selection1_start','startDate']] = concert_v['selection1_start'].str.split('@',expand=True)\n",
    "concert_v['selection1_start']=pd.to_datetime(concert_v['selection1_start'])\n",
    "concert_v['startDate']=concert_v['selection1_start']\n",
    "concert_v['endDate']=concert_v['startDate']\n",
    "concert_v['type']='Concert'\n",
    "concert_v['outcome']=np.nan\n",
    "concert_v['name']=concert_v['selection1_name']\n",
    "concert_v['city']='Vancouver'\n",
    "concert_v=concert_v[['name','type','outcome','startDate','endDate','startTime','endTime','city']]"
   ]
  },
  {
   "cell_type": "code",
   "execution_count": 7,
   "metadata": {},
   "outputs": [],
   "source": [
    "foot_de['startDate']=(foot_de['Date_name'].astype(str)+'-'+ foot_de['Date_year'].astype(str))\n",
    "foot_de['startDate']=pd.to_datetime(foot_de['startDate'])\n",
    "foot_de['endDate']=pd.to_datetime(foot_de['startDate'])\n",
    "foot_de['outcome']= foot_de.Date_outcome.map(d)\n",
    "foot_de['type']='Sport'\n",
    "foot_de['name']='Football'\n",
    "foot_de['city']='Denver' \n",
    "foot_de['startTime']=foot_de['Start_Time']\n",
    "foot_de['endTime']=np.nan\n",
    "foot_de=foot_de[['name','type','outcome','startDate','endDate','startTime','endTime','city']]"
   ]
  },
  {
   "cell_type": "code",
   "execution_count": 8,
   "metadata": {},
   "outputs": [],
   "source": [
    "vanc_h=pd.read_csv(path + \"hockey_Vancouver(home and away).csv\")\n",
    "vanc_h[['outcome','Dateoutcome','Date_outcome_url']] = vanc_h['Date_outcome_url'].str.split(' ',expand=True)\n",
    "vanc_h[['Date_name','Datemonth']] = vanc_h['Date_name'].str.split('-',expand=True)\n",
    "vanc_h['Datemonth']=pd.to_datetime(vanc_h['Datemonth'], format='%b').dt.month\n",
    "vanc_h['startDate']=(vanc_h['Date_timeET'].astype(str) + '-'+ ( vanc_h['Datemonth'].astype(str)) +\"-\"+\n",
    "                     vanc_h['Date_name'].astype(str))\n",
    "vanc_h['startDate']=pd.to_datetime(vanc_h['startDate'])\n",
    "vanc_h['endDate']=vanc_h['startDate']\n",
    "vanc_h['outcome']= vanc_h.outcome.map(d1)\n",
    "vanc_h['type']='Sport'\n",
    "vanc_h['name']='Hockey'\n",
    "vanc_h['city']='Vancouver'\n",
    "vanc_h['startTime']=vanc_h['Date_opponent']\n",
    "vanc_h['endTime']=np.nan\n",
    "vanc_h=vanc_h[['name','type','outcome','startDate','endDate','startTime','endTime','city']]"
   ]
  },
  {
   "cell_type": "code",
   "execution_count": 9,
   "metadata": {},
   "outputs": [],
   "source": [
    "vanc_s[['Date','Datemonth']] = vanc_s['Date'].str.split('-',expand=True)\n",
    "vanc_s['Datemonth']=pd.to_datetime(vanc_s['Datemonth'], format='%b').dt.month\n",
    "vanc_s['startDate']=(vanc_s['Year'].astype(str) + '-'+ ( vanc_s['Datemonth'].astype(str)) +\"-\"+\n",
    "                     vanc_s['Date'].astype(str))\n",
    "vanc_s['startDate']=pd.to_datetime(vanc_s['startDate'])\n",
    "vanc_s['endDate']=vanc_s['startDate']\n",
    "vanc_s['outcome']= vanc_s.Outcome.map(d)\n",
    "vanc_s['type']='Sport'\n",
    "vanc_s['name']='Soccer'\n",
    "vanc_s['city']='Vancouver'\n",
    "vanc_s['endTime']=np.nan\n",
    "vanc_s=vanc_s[['name','type','outcome','startDate','endDate','startTime','endTime','city']]"
   ]
  },
  {
   "cell_type": "code",
   "execution_count": 10,
   "metadata": {},
   "outputs": [],
   "source": [
    "den_fes[['DateS','DateE']] = den_fes['Date'].str.split('-',expand=True)\n",
    "den_fes[['DateS','DateS1']] = den_fes['DateS'].str.split(' ',expand=True)\n",
    "den_fes[['DateEE','DateE']] = den_fes['DateE'].str.split(' ',expand=True)\n",
    "den_fes.DateS1.fillna(value=np.nan, inplace=True)\n",
    "den_fes.DateS1=den_fes.DateS1.astype(str)\n",
    "den_fes.DateE.fillna(value=np.nan, inplace=True)\n",
    "den_fes.DateE=den_fes.DateE.astype(str)\n",
    "den_fes.DateS=den_fes.DateS.astype(str)\n",
    "den_fes.DateEE=den_fes.DateEE.astype(str)\n",
    "den_fes.DateE=den_fes.DateE.astype(str)\n",
    "\n",
    "\n",
    "# den_fes[['DateS','DateE']] = den_fes['Date'].str.split('-',expand=True)\n",
    "# den_fes[['DateS','DateS1']] = den_fes['DateS'].str.split(' ',expand=True)\n",
    "# den_fes[['DateEE','DateE']] = den_fes['DateE'].str.split(' ',expand=True)\n",
    "# den_fes.DateS1.fillna(value=np.nan, inplace=True)\n",
    "# den_fes.DateS1=den_fes.DateS1.astype(str)\n",
    "# den_fes.DateS=den_fes.DateS.astype(str)\n",
    "# den_fes.DateEE=den_fes.DateEE.astype(str)\n",
    "# den_fes.DateE=den_fes.DateE.astype(str)\n",
    "\n",
    "def f(row):\n",
    "    if (row['DateS1'] !='nan' )&  (row['DateE'] =='nan'):\n",
    "        val= row['DateS'] +'-' +row['DateS1']\n",
    "    elif( row['DateS1'] =='nan') & (row['DateE'] =='nan'):\n",
    "        val=row['DateS'] +'-'+ row['DateEE']\n",
    "    else:\n",
    "        val=row['DateS'] +'-'+ row['DateS1']\n",
    "    return val\n",
    "\n",
    "def d(rowx):\n",
    "    if (rowx['DateS1'] !='nan' )&  (rowx['DateE'] !='nan'):\n",
    "        val2= rowx['DateEE'] +'-' +rowx['DateE']\n",
    "    elif( rowx['DateE'] =='nan') & (rowx['DateS1'] =='nan'):\n",
    "        val2=rowx['DateS'] +'-'+ rowx['DateEE']\n",
    "    elif( rowx['DateE'] =='nan') & (rowx['DateS1'] !='nan'):\n",
    "        val2=rowx['DateS'] +'-'+ rowx['DateEE']\n",
    "    else:\n",
    "        val2=0\n",
    "    return val2\n",
    "\n",
    "den_fes['startDate']=den_fes.apply (lambda row: f(row), axis=1)\n",
    "den_fes['endDate']=den_fes.apply (lambda rowx: d(rowx), axis=1)\n",
    "den_fes['startDate']= pd.to_datetime(den_fes['startDate'].astype(str) +'-' + den_fes['Year'].astype(str))\n",
    "den_fes['endDate']= pd.to_datetime(den_fes['endDate'].astype(str) +'-' + den_fes['Year'].astype(str))\n",
    "den_fes['type']='Festival'\n",
    "den_fes['name']=den_fes['Festival']\n",
    "den_fes['outcome']=np.nan\n",
    "den_fes['startTime']=np.nan\n",
    "den_fes['endTime']=np.nan\n",
    "den_fes['city']='Denver'\n",
    "den_fes=den_fes[['name','type','outcome','startDate','endDate','startTime','endTime','city']]"
   ]
  },
  {
   "cell_type": "code",
   "execution_count": 11,
   "metadata": {},
   "outputs": [],
   "source": [
    "van_fes[['DateS','DateE']] = van_fes['Date'].astype(str).str.split('-',expand=True)\n",
    "van_fes[['DateS','DateS1']] = van_fes['DateS'].str.split(' ',expand=True)\n",
    "van_fes[['DateEE','DateE']] = van_fes['DateE'].str.split(' ',expand=True)\n",
    "\n",
    "\n",
    "van_fes.DateS1.fillna(value=np.nan, inplace=True)\n",
    "van_fes.DateS1=van_fes.DateS1.astype(str)\n",
    "van_fes.DateE.fillna(value=np.nan, inplace=True)\n",
    "van_fes.DateE=van_fes.DateE.astype(str)\n",
    "van_fes.DateS=van_fes.DateS.astype(str)\n",
    "van_fes.DateEE=van_fes.DateEE.astype(str)\n",
    "van_fes.DateE=van_fes.DateE.astype(str)\n",
    "\n",
    "van_fes['startDate']=van_fes.apply (lambda row: f(row), axis=1)\n",
    "van_fes['endDate']=van_fes.apply (lambda rowx: d(rowx), axis=1)\n",
    "van_fes['startDate']= pd.to_datetime(van_fes['startDate'].astype(str) +'-' + (van_fes['Year'].astype(int)).astype(str))\n",
    "van_fes['endDate']= pd.to_datetime(van_fes['endDate'].astype(str) +'-' + (van_fes['Year'].astype(int)).astype(str))\n",
    "van_fes['type']='Festival'\n",
    "van_fes['name']=van_fes['Festival']\n",
    "van_fes['outcome']=np.nan\n",
    "van_fes['city']= 'Vancouver'\n",
    "van_fes['startTime']=np.nan\n",
    "van_fes['endTime']=np.nan\n",
    "van_fes=van_fes[['name','type','outcome','startDate','endDate','startTime','endTime','city']]"
   ]
  },
  {
   "cell_type": "code",
   "execution_count": 12,
   "metadata": {},
   "outputs": [],
   "source": [
    "van_hol=pd.read_csv(path +'holidaysCanada.csv')\n",
    "van_hol=van_hol.dropna(how='all')\n",
    "van_hol[['Date','Datemonth']] = van_hol['holiday_date'].str.split('-',expand=True)\n",
    "van_hol['Datemonth']=pd.to_datetime(van_hol['Datemonth'], format='%b').dt.month\n",
    "van_hol['startDate']=pd.to_datetime((van_hol['year'].astype(int)).astype(str) + '-'+ ( van_hol['Datemonth'].astype(str)) +\"-\"+\n",
    "                     van_hol['Date'].astype(str))\n",
    "van_hol['endDate']=van_hol['startDate']\n",
    "van_hol['startTime']=np.nan\n",
    "van_hol['endTime']=np.nan\n",
    "van_hol['outcome']=np.nan\n",
    "van_hol['type']='Public Holiday'\n",
    "van_hol['name']= van_hol['holiday_name']\n",
    "van_hol['city']= 'Vancouver'\n",
    "van_off=van_hol[['holiday_name','startDate']]\n",
    "van_hol=van_hol[['name','type','outcome','startDate','endDate','startTime','endTime','city']]"
   ]
  },
  {
   "cell_type": "code",
   "execution_count": 13,
   "metadata": {},
   "outputs": [],
   "source": [
    "den_hol=pd.read_csv(path + 'holidaysUS.csv')\n",
    "den_hol[['Date','Datemonth']] = den_hol['Holiday_Date'].str.split('-',expand=True)\n",
    "den_hol['Datemonth']=pd.to_datetime(den_hol['Datemonth'], format='%b').dt.month\n",
    "den_hol['startDate']=pd.to_datetime((den_hol['year'].astype(int)).astype(str) + '-'+ ( den_hol['Datemonth'].astype(str)) +\"-\"+\n",
    "                     den_hol['Date'].astype(str))\n",
    "den_hol['endDate']=den_hol['startDate']\n",
    "den_hol['startTime']=np.nan\n",
    "den_hol['endTime']=np.nan\n",
    "den_hol['outcome']=np.nan\n",
    "den_hol['type']='Public Holiday'\n",
    "den_hol['name']= den_hol['Holiday_name']\n",
    "den_hol['city']= 'Denver'\n",
    "den_off=den_hol[['Holiday_name','startDate']]\n",
    "den_hol=den_hol[['name','type','outcome','startDate','endDate','startTime','endTime','city']]"
   ]
  },
  {
   "cell_type": "code",
   "execution_count": 14,
   "metadata": {},
   "outputs": [],
   "source": [
    "denEvents=base_De.append([concert_De,foot_de,den_fes,den_hol])\n",
    "denEvents=denEvents.sort_values(by='startDate', ascending=True)"
   ]
  },
  {
   "cell_type": "code",
   "execution_count": 15,
   "metadata": {},
   "outputs": [],
   "source": [
    "vancEvents=concert_v.append([vanc_h,vanc_s,van_fes,van_hol])\n",
    "vancEvents=vancEvents.sort_values(by='startDate', ascending=True)"
   ]
  },
  {
   "cell_type": "code",
   "execution_count": 16,
   "metadata": {},
   "outputs": [],
   "source": [
    "vanFinal=pd.merge(vancEvents,van_off, on='startDate', how='outer')\n",
    "denFinal=pd.merge(denEvents,den_off, on='startDate', how='outer')"
   ]
  },
  {
   "cell_type": "code",
   "execution_count": 17,
   "metadata": {},
   "outputs": [],
   "source": [
    "vanFinal[\"dateName\"]= vanFinal[\"startDate\"].dt.weekday_name\n",
    "vanFinal.holiday_name.fillna(value=0, inplace=True)\n",
    "denFinal[\"dateName\"]= denFinal[\"startDate\"].dt.weekday_name\n",
    "denFinal.Holiday_name.fillna(value=0, inplace=True)"
   ]
  },
  {
   "cell_type": "code",
   "execution_count": 18,
   "metadata": {},
   "outputs": [],
   "source": [
    "def z(ro):\n",
    "   \n",
    "    if (ro['holiday_name'] == 0 ) & (ro['dateName'] =='Sunday'): \n",
    "        val=1\n",
    "    elif (ro['holiday_name'] ==0) & (ro['dateName'] =='Saturday'):\n",
    "        val=1\n",
    "    elif (ro['holiday_name'] !=0):\n",
    "        val=1\n",
    "    else:\n",
    "        val=0\n",
    "    return val\n",
    "\n",
    "def y(rox):\n",
    "   \n",
    "    if (rox['Holiday_name'] == 0 ) & (rox['dateName'] =='Sunday'): \n",
    "        val=1\n",
    "    elif (rox['Holiday_name'] ==0) & (rox['dateName'] =='Saturday'):\n",
    "        val=1\n",
    "    elif (rox['Holiday_name'] !=0):\n",
    "        val=1\n",
    "    else:\n",
    "        val=0\n",
    "    return val"
   ]
  },
  {
   "cell_type": "code",
   "execution_count": 19,
   "metadata": {},
   "outputs": [],
   "source": [
    "vanFinal['isOffWork']=vanFinal.apply (lambda ro: z(ro), axis=1)\n",
    "denFinal['isOffWork']=denFinal.apply (lambda rox: y(rox), axis=1)"
   ]
  },
  {
   "cell_type": "code",
   "execution_count": 20,
   "metadata": {
    "scrolled": false
   },
   "outputs": [],
   "source": [
    "denFinal=denFinal[['name', 'isOffWork', 'type', 'outcome', 'startDate', 'endDate', 'startTime',\n",
    "       'endTime', 'city']]\n",
    "vanFinal=vanFinal[['name', 'isOffWork', 'type', 'outcome', 'startDate', 'endDate', 'startTime',\n",
    "       'endTime', 'city']]"
   ]
  },
  {
   "cell_type": "code",
   "execution_count": 21,
   "metadata": {},
   "outputs": [],
   "source": [
    "events=denFinal.append(vanFinal)\n",
    "events=events.sort_values(by='startDate', ascending=True)"
   ]
  },
  {
   "cell_type": "code",
   "execution_count": 22,
   "metadata": {},
   "outputs": [],
   "source": [
    "events['eventKey']=events.index\n",
    "events=events[['eventKey','name', 'isOffWork', 'type', 'outcome', 'startDate', 'endDate',\n",
    "       'startTime', 'endTime', 'city']]"
   ]
  },
  {
   "cell_type": "code",
   "execution_count": 23,
   "metadata": {},
   "outputs": [],
   "source": [
    "events.to_csv(path+\"specialEvents.csv\", index=False, encoding='utf8')"
   ]
  },
  {
   "cell_type": "code",
   "execution_count": null,
   "metadata": {},
   "outputs": [],
   "source": []
  }
 ],
 "metadata": {
  "kernelspec": {
   "display_name": "Python 3",
   "language": "python",
   "name": "python3"
  },
  "language_info": {
   "codemirror_mode": {
    "name": "ipython",
    "version": 3
   },
   "file_extension": ".py",
   "mimetype": "text/x-python",
   "name": "python",
   "nbconvert_exporter": "python",
   "pygments_lexer": "ipython3",
   "version": "3.7.4"
  }
 },
 "nbformat": 4,
 "nbformat_minor": 2
}
