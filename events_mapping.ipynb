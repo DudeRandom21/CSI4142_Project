{
 "cells": [
  {
   "cell_type": "code",
   "execution_count": null,
   "metadata": {},
   "outputs": [],
   "source": [
    "import requests\n",
    "from bs4 import BeautifulSoup\n",
    "import urllib\n",
    "import pandas as pd\n",
    "import numpy as np\n",
    "import json\n",
    "from time import sleep, perf_counter as pf\n",
    "import itertools as it"
   ]
  },
  {
   "cell_type": "code",
   "execution_count": null,
   "metadata": {},
   "outputs": [],
   "source": [
    "events = pd.read_csv('datasets/specialEvents.csv')\n",
    "display(events)"
   ]
  },
  {
   "cell_type": "code",
   "execution_count": null,
   "metadata": {},
   "outputs": [],
   "source": [
    "display(events.loc[events['startDate'] != events['endDate']])"
   ]
  },
  {
   "cell_type": "code",
   "execution_count": null,
   "metadata": {},
   "outputs": [],
   "source": [
    "output = []\n",
    "for row in events.itertuples():\n",
    "    for date in pd.date_range(row.startDate, row.endDate):\n",
    "        output.append({\n",
    "            'eventKey': row.eventKey,\n",
    "            'name': row.name,\n",
    "            'isOffWork': row.isOffWork,\n",
    "            'type': row.type,\n",
    "            'outcome': row.outcome,\n",
    "            'startDate': row.startDate,\n",
    "            'endDate': row.endDate,\n",
    "            'startTime': row.startTime,\n",
    "            'endTime': row.endTime,\n",
    "            'city': row.city,\n",
    "            'date': date\n",
    "        })\n",
    "df = pd.DataFrame(output)\n",
    "df = df[['eventKey', 'name', 'isOffWork', 'type', 'outcome', 'startDate', 'endDate', 'startTime', 'endTime', 'date', 'city']]\n",
    "display(df)"
   ]
  },
  {
   "cell_type": "code",
   "execution_count": null,
   "metadata": {},
   "outputs": [],
   "source": [
    "display(df.loc[df['startDate'] != df['endDate']])"
   ]
  },
  {
   "cell_type": "code",
   "execution_count": null,
   "metadata": {},
   "outputs": [],
   "source": [
    "df.to_csv('datasets/events_mapping.csv', index=False)"
   ]
  },
  {
   "cell_type": "code",
   "execution_count": null,
   "metadata": {},
   "outputs": [],
   "source": [
    "df.drop(['city', 'date'], axis=1, inplace=True)\n",
    "df.drop_duplicates(inplace=True)\n",
    "display(df)\n",
    "df.to_csv('datasets/final/events.csv', index=False)"
   ]
  },
  {
   "cell_type": "code",
   "execution_count": null,
   "metadata": {},
   "outputs": [],
   "source": [
    "df.loc[df['eventKey'] == 161]"
   ]
  }
 ],
 "metadata": {
  "kernelspec": {
   "display_name": "Python 3",
   "language": "python",
   "name": "python3"
  },
  "language_info": {
   "codemirror_mode": {
    "name": "ipython",
    "version": 3
   },
   "file_extension": ".py",
   "mimetype": "text/x-python",
   "name": "python",
   "nbconvert_exporter": "python",
   "pygments_lexer": "ipython3",
   "version": "3.7.5"
  }
 },
 "nbformat": 4,
 "nbformat_minor": 4
}
